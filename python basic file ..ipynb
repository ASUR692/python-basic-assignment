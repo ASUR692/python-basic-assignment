{
  "nbformat": 4,
  "nbformat_minor": 0,
  "metadata": {
    "colab": {
      "provenance": []
    },
    "kernelspec": {
      "name": "python3",
      "display_name": "Python 3"
    },
    "language_info": {
      "name": "python"
    }
  },
  "cells": [
    {
      "cell_type": "markdown",
      "source": [
        "Que 1. What is Python, and why is it popular\n",
        (("Ans 1)). Python is a high-level, interpreted programming language. It is popular because of its simple syntax, readability, large library support, and its use in fields like web development, data science, automation, and AI.\n",
        "\n",
        "Que 2. What is an interpreter in Python\n",
        "Ans 2. An interpreter is a program that reads and executes Python code line by line, instead of compiling the whole code at once.\n",
        "\n",
        "Que 3. What are pre-defined keywords in Python\n",
        "Ans 3. Pre-defined keywords are reserved words in Python that have special meaning, like if, else, for, True, False, etc. We cannot use them as variable names.\n",
        "\n",
        "Que 4. Can keywords be used as variable names\n",
        "Ans 4. No, Python keywords cannot be used as variable names because they are already used by the language for specific functions.\n",
        "\n",
        "Que 5. What is mutability in Python\n",
        "Ans 5. Mutability means whether a data type can be changed after creation. Mutable types can be changed (like lists), and immutable types cannot be changed (like strings or tuples).\n",
        "\n",
        "Que 6. Why are lists mutable, but tuples are immutable\n",
        "Ans 6. Lists are designed to hold changing data, so they allow adding, removing, or changing elements. Tuples are used to store fixed data, so Python makes them immutable for safety and performance.\n",
        "\n",
        "Que 7. What is the difference between “==” and “is” operators in Python\n",
        "Ans 7. == checks if two variables have equal values, while is checks if two variables point to the same object in memory.\n",
        "\n",
        "Que 8. What are logical operators in Python\n",
        "Ans 8. Logical operators in Python are and, or, and not. They are used to combine multiple conditions.\n",
        "\n",
        "Que 9. What is type casting in Python\n",
        "Ans 9. Type casting means converting one data type into another, like converting a string to an integer.\n",
        "\n",
        "Que 10. What is the difference between implicit and explicit type casting\n",
        "Ans 10. Implicit type casting is done by Python automatically. Explicit type casting is done manually by the programmer using functions like int(), float().\n",
        "\n",
        "Que 11. What is the purpose of conditional statements in Python\n",
        "Ans 11. Conditional statements allow us to run specific code only when certain conditions are met, like using if, else, or elif.\n",
        "\n",
        "Que 12. How does the elif statement work\n",
        "Ans 12. elif (else if) checks another condition if the previous if condition was false. It helps handle multiple conditions.\n",
        "\n",
        "Que 13. What is the difference between for and while loops\n",
        "Ans 13. for loop is used when the number of iterations is known. while loop is used when we want to keep looping until a condition becomes false.\n",
        "\n",
        "Que 14. Describe a scenario where a while loop is more suitable than a for loop\n",
        "Ans 14. When we don’t know how many times we need to loop — like reading user input until they type \"exit\", while loop is better."
      ],
      "metadata": {
        "id": "R0Ea0oHEJclK"
      }
    },
    {
      "cell_type": "code",
      "source": [
        "# Que: Write a Python program to print \"Hello, World!\"\n",
        "print(\"Hello, World!\")\n"
      ],
      "metadata": {
        "colab": {
          "base_uri": "https://localhost:8080/"
        },
        "id": "hRfKKSnYKA3m",
        "outputId": "361b0485-e337-4d8b-cacb-6d1ac6e1505a"
      },
      "execution_count": 1,
      "outputs": [
        {
          "output_type": "stream",
          "name": "stdout",
          "text": [
            "Hello, World!\n"
          ]
        }
      ]
    },
    {
      "cell_type": "code",
      "source": [
        "# Que: Write a Python program that displays your name and age\n",
        "print(\"My name is Rishi and I am 17 years old.\")  # Example\n"
      ],
      "metadata": {
        "colab": {
          "base_uri": "https://localhost:8080/"
        },
        "id": "_aV52Z0OLFw3",
        "outputId": "74a155b1-3377-41d7-d77d-75daec1681ad"
      },
      "execution_count": 3,
      "outputs": [
        {
          "output_type": "stream",
          "name": "stdout",
          "text": [
            "My name is Rishi and I am 17 years old.\n"
          ]
        }
      ]
    },
    {
      "cell_type": "code",
      "source": [
        "# Que: Write code to print all the pre-defined keywords in Python using the keyword library\n",
        "import keyword\n",
        "print(keyword.kwlist)\n"
      ],
      "metadata": {
        "colab": {
          "base_uri": "https://localhost:8080/"
        },
        "id": "-DHoP0uvL8vF",
        "outputId": "e61c91ba-6e5a-4909-8929-ae2803c03973"
      },
      "execution_count": 4,
      "outputs": [
        {
          "output_type": "stream",
          "name": "stdout",
          "text": [
            "['False', 'None', 'True', 'and', 'as', 'assert', 'async', 'await', 'break', 'class', 'continue', 'def', 'del', 'elif', 'else', 'except', 'finally', 'for', 'from', 'global', 'if', 'import', 'in', 'is', 'lambda', 'nonlocal', 'not', 'or', 'pass', 'raise', 'return', 'try', 'while', 'with', 'yield']\n"
          ]
        }
      ]
    },
    {
      "cell_type": "code",
      "source": [
        "# Que: Write a program that checks if a given word is a Python keyword.\n",
        "import keyword\n",
        "\n",
        "word = \"for\"\n",
        "if keyword.iskeyword(word):\n",
        "       print(f\"{word} is a keyword.\")\n",
        "else:\n",
        "    print(f\"{word} is not a keyword.\")\n"
      ],
      "metadata": {
        "colab": {
          "base_uri": "https://localhost:8080/"
        },
        "id": "KVTNYnprMHXd",
        "outputId": "bbca476b-a18d-4e52-99c7-8c54bf7efc76"
      },
      "execution_count": 6,
      "outputs": [
        {
          "output_type": "stream",
          "name": "stdout",
          "text": [
            "for is a keyword.\n"
          ]
        }
      ]
    },
    {
      "cell_type": "code",
      "source": [
        "# Que: Write a function to demonstrate the behavior of mutable and immutable arguments.\n",
        "def test_mutable_immutable(a, b):\n",
        "    a += 1        # Immutable (int)\n",
        "    b.append(4)   # Mutable (list)\n",
        "    print(a, b)\n",
        "\n",
        "x = 5\n",
        "y = [1, 2, 3]\n",
        "test_mutable_immutable(x, y)\n"
      ],
      "metadata": {
        "colab": {
          "base_uri": "https://localhost:8080/"
        },
        "id": "Rooa_V1hMQ7R",
        "outputId": "1fc0cb00-acff-4d85-f9fb-6f48c2a99241"
      },
      "execution_count": 9,
      "outputs": [
        {
          "output_type": "stream",
          "name": "stdout",
          "text": [
            "6 [1, 2, 3, 4]\n"
          ]
        }
      ]
    },
    {
      "cell_type": "code",
      "source": [
        "# Que: Write a program that performs basic arithmetic operations on two user-input numbers.\n",
        "a = int(input(\"Enter first number: \"))\n",
        "b = int(input(\"Enter second number: \"))\n",
        "\n",
        "print(\"Sum:\", a + b)\n",
        "print(\"Difference:\", a - b)\n",
        "print(\"Product:\", a * b)\n",
        "print(\"Quotient:\", a / b)\n"
      ],
      "metadata": {
        "colab": {
          "base_uri": "https://localhost:8080/"
        },
        "id": "RVgF3b7YMjJF",
        "outputId": "4a080cd1-d348-48bb-c835-ccad8f41f30f"
      },
      "execution_count": 10,
      "outputs": [
        {
          "output_type": "stream",
          "name": "stdout",
          "text": [
            "Enter first number: 23\n",
            "Enter second number: 43\n",
            "Sum: 66\n",
            "Difference: -20\n",
            "Product: 989\n",
            "Quotient: 0.5348837209302325\n"
          ]
        }
      ]
    },
    {
      "cell_type": "code",
      "source": [
        "# Que: Write a program to demonstrate the use of logical operators.\n",
        "x = 10\n",
        "y = 5\n",
        "\n",
        "print(x > 5 and y < 10)\n",
        "print(x < 5 or y < 10)\n",
        "print(not (x == y))\n"
      ],
      "metadata": {
        "colab": {
          "base_uri": "https://localhost:8080/"
        },
        "id": "zmolX5JkMtUf",
        "outputId": "e47266cc-7a7e-430e-9d94-d6169e914ba7"
      },
      "execution_count": 12,
      "outputs": [
        {
          "output_type": "stream",
          "name": "stdout",
          "text": [
            "True\n",
            "True\n",
            "True\n"
          ]
        }
      ]
    },
    {
      "cell_type": "code",
      "source": [
        "# Que: Create a list and tuple in Python, and demonstrate how attempting to change an element works differently.\n",
        "my_list = [1, 2, 3]\n",
        "my_tuple = (1, 2, 3)\n",
        "\n",
        "my_list[0] = 100  # This works\n",
        "print(\"Modified list:\", my_list)\n",
        "\n",
        ""
      ],
      "metadata": {
        "colab": {
          "base_uri": "https://localhost:8080/"
        },
        "id": "B1utY7i6NKv-",
        "outputId": "d66b6c6d-f926-43ff-cfbf-ddd388a0bf66"
      },
      "execution_count": 14,
      "outputs": [
        {
          "output_type": "stream",
          "name": "stdout",
          "text": [
            "Modified list: [100, 2, 3]\n"
          ]
        }
      ]
    },
    {
      "cell_type": "code",
      "source": [
        "# Que: Write a Python program to convert user input from string to integer, float, and boolean types.\n",
        "value = input(\"Enter a value: \")\n",
        "\n",
        "print(\"As int:\", int(value))\n",
        "print(\"As float:\", float(value))\n",
        "print(\"As bool:\", bool(value))\n"
      ],
      "metadata": {
        "colab": {
          "base_uri": "https://localhost:8080/"
        },
        "id": "cHWLgV9cNepT",
        "outputId": "0770419a-35e3-4f6a-bb8b-1c462fad4adb"
      },
      "execution_count": 15,
      "outputs": [
        {
          "output_type": "stream",
          "name": "stdout",
          "text": [
            "Enter a value: 23\n",
            "As int: 23\n",
            "As float: 23.0\n",
            "As bool: True\n"
          ]
        }
      ]
    },
    {
      "cell_type": "code",
      "source": [
        "# Que: Write code to demonstrate type casting with list elements.\n",
        "numbers = ['1', '2', '3']\n",
        "int_numbers = [int(num) for num in numbers]\n",
        "\n",
        "print(\"After type casting:\", int_numbers)\n"
      ],
      "metadata": {
        "colab": {
          "base_uri": "https://localhost:8080/"
        },
        "id": "pmRopzy7Nwye",
        "outputId": "2fe2794d-6482-4de3-8881-3cf712e66dc8"
      },
      "execution_count": 16,
      "outputs": [
        {
          "output_type": "stream",
          "name": "stdout",
          "text": [
            "After type casting: [1, 2, 3]\n"
          ]
        }
      ]
    },
    {
      "cell_type": "code",
      "source": [
        "# Que: Write a program that checks if a number is positive, negative, or zero.\n",
        "num = int(input(\"Enter a number: \"))\n",
        "\n",
        "if num > 0:\n",
        "    print(\"Positive\")\n",
        "elif num < 0:\n",
        "    print(\"Negative\")\n",
        "else:\n",
        "    print(\"Zero\")\n"
      ],
      "metadata": {
        "colab": {
          "base_uri": "https://localhost:8080/"
        },
        "id": "MOvsuT3NN7sX",
        "outputId": "460545b0-5ddc-4943-def4-d1252745c616"
      },
      "execution_count": 17,
      "outputs": [
        {
          "output_type": "stream",
          "name": "stdout",
          "text": [
            "Enter a number: 77\n",
            "Positive\n"
          ]
        }
      ]
    },
    {
      "cell_type": "code",
      "source": [
        "# Que: Write a for loop to print numbers from 1 to 10.\n",
        "for i in range(1, 11):\n",
        "    print(i)\n"
      ],
      "metadata": {
        "colab": {
          "base_uri": "https://localhost:8080/"
        },
        "id": "SBBJs6aLOLBt",
        "outputId": "d515a546-19f0-4f99-dc5e-d124648077d0"
      },
      "execution_count": 18,
      "outputs": [
        {
          "output_type": "stream",
          "name": "stdout",
          "text": [
            "1\n",
            "2\n",
            "3\n",
            "4\n",
            "5\n",
            "6\n",
            "7\n",
            "8\n",
            "9\n",
            "10\n"
          ]
        }
      ]
    },
    {
      "cell_type": "code",
      "source": [
        "# Que: Write a Python program to find the sum of all even numbers between 1 and 50.\n",
        "total = 0\n",
        "for i in range(1, 51):\n",
        "    if i % 2 == 0:\n",
        "        total += i\n",
        "\n",
        "print(\"Sum of even numbers from 1 to 50:\", total)\n"
      ],
      "metadata": {
        "colab": {
          "base_uri": "https://localhost:8080/"
        },
        "id": "T0TgpbgQOR_c",
        "outputId": "2a031032-d97b-4afd-e997-2a9a15ec3188"
      },
      "execution_count": 19,
      "outputs": [
        {
          "output_type": "stream",
          "name": "stdout",
          "text": [
            "Sum of even numbers from 1 to 50: 650\n"
          ]
        }
      ]
    },
    {
      "cell_type": "code",
      "source": [
        "# Que: Write a program to reverse a string using a while loop.\n",
        "text = \"Python\"\n",
        "i = len(text) - 1\n",
        "rev = \"\"\n",
        "\n",
        "while i >= 0:\n",
        "    rev += text[i]\n",
        "    i -= 1\n",
        "\n",
        "print(\"Reversed string:\", rev)\n"
      ],
      "metadata": {
        "colab": {
          "base_uri": "https://localhost:8080/"
        },
        "id": "zeG49wYPOz9n",
        "outputId": "abd03f34-9f6d-44fd-ff83-53f6de9c1f50"
      },
      "execution_count": 25,
      "outputs": [
        {
          "output_type": "stream",
          "name": "stdout",
          "text": [
            "Reversed string: nohtyP\n"
          ]
        }
      ]
    },
    {
      "cell_type": "code",
      "source": [
        "# Que: Write a Python program to calculate the factorial of a number provided by the user using a while loop.\n",
        "num = int(input(\"Enter a number: \"))\n",
        "fact = 1\n",
        "\n",
        "while num > 0:\n",
        "    fact *= num\n",
        "    num -= 1\n",
        "\n",
        "print(\"Factorial is:\", fact)\n",
        "\n"
      ],
      "metadata": {
        "colab": {
          "base_uri": "https://localhost:8080/"
        },
        "id": "88YSXNfWO6HO",
        "outputId": "41d15be1-7d7b-4fbe-d444-0d70cc886315"
      },
      "execution_count": 26,
      "outputs": [
        {
          "output_type": "stream",
          "name": "stdout",
          "text": [
            "Enter a number: -7\n",
            "Factorial is: 1\n"
          ]
        }
      ]
    }
  ]
}
